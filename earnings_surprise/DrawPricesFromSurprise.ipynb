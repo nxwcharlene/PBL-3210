{
 "cells": [
  {
   "cell_type": "code",
   "execution_count": 34,
   "metadata": {},
   "outputs": [],
   "source": [
    "import pandas as pd\n",
    "from datetime import datetime as dt\n",
    "from datetime import timedelta\n",
    "import numpy as np\n",
    "from bokeh.plotting import figure, show\n",
    "from bokeh.models import ColumnDataSource, NumeralTickFormatter\n",
    "from bokeh.io import output_notebook"
   ]
  },
  {
   "cell_type": "code",
   "execution_count": 35,
   "metadata": {},
   "outputs": [],
   "source": [
    "earnings=pd.read_csv(\"TeslaEarnings.csv\", index_col=7)\n",
    "sp=pd.read_csv(\"TeslaStockPrice.csv\", index_col = 0)\n"
   ]
  },
  {
   "cell_type": "code",
   "execution_count": 36,
   "metadata": {},
   "outputs": [],
   "source": [
    "stringslist=[]\n",
    "for i in earnings[\"Ann Date\"]:\n",
    "    stringslist.append(i.split(\"/\")) \n",
    "for j in stringslist:\n",
    "    if j[0] == \"11\":\n",
    "        continue\n",
    "    elif j[0]==\"10\":\n",
    "        continue\n",
    "    elif j[0] == \"12\":\n",
    "        continue\n",
    "    elif j[0][0] != \"0\":\n",
    "        j[0]=\"0\"+j[0]\n",
    "seperator= \"/\"  \n",
    "cleanedlist=[]\n",
    "for j in stringslist:\n",
    "    cleanedlist.append(seperator.join(j))\n",
    "\n",
    "\n",
    "earnings[\"Ann Date\"]=cleanedlist\n"
   ]
  },
  {
   "cell_type": "code",
   "execution_count": 37,
   "metadata": {},
   "outputs": [
    {
     "data": {
      "text/plain": [
       "{0.2306: datetime.datetime(2020, 1, 29, 0, 0),\n",
       " -2.6246: datetime.datetime(2019, 7, 24, 0, 0),\n",
       " -1.2256: datetime.datetime(2019, 4, 24, 0, 0),\n",
       " -0.0998: datetime.datetime(2019, 1, 30, 0, 0),\n",
       " -0.0537: datetime.datetime(2018, 8, 1, 0, 0),\n",
       " 0.019: datetime.datetime(2018, 5, 2, 0, 0),\n",
       " 0.0497: datetime.datetime(2018, 2, 7, 0, 0),\n",
       " -0.2892: datetime.datetime(2017, 11, 1, 0, 0),\n",
       " 0.291: datetime.datetime(2017, 8, 2, 0, 0),\n",
       " -0.6299: datetime.datetime(2017, 5, 3, 0, 0),\n",
       " 0.3926: datetime.datetime(2017, 2, 22, 0, 0),\n",
       " -0.7667: datetime.datetime(2016, 8, 3, 0, 0),\n",
       " 0.0484: datetime.datetime(2016, 5, 4, 0, 0),\n",
       " -0.0432: datetime.datetime(2015, 11, 3, 0, 0),\n",
       " 0.196: datetime.datetime(2015, 8, 5, 0, 0),\n",
       " 0.2683: datetime.datetime(2015, 5, 6, 0, 0),\n",
       " 1.8205: datetime.datetime(2014, 7, 31, 0, 0),\n",
       " 0.6216: datetime.datetime(2014, 5, 7, 0, 0),\n",
       " 0.2791: datetime.datetime(2014, 2, 19, 0, 0),\n",
       " 0.25: datetime.datetime(2013, 11, 5, 0, 0),\n",
       " 2.2432: datetime.datetime(2013, 5, 8, 0, 0),\n",
       " -0.1111: array(['02/20/2013', '02/15/2012'], dtype=object),\n",
       " -0.0011: datetime.datetime(2012, 11, 5, 0, 0),\n",
       " 0.0542: datetime.datetime(2012, 7, 25, 0, 0),\n",
       " -0.0674: datetime.datetime(2012, 5, 9, 0, 0),\n",
       " 0.0772: datetime.datetime(2011, 11, 2, 0, 0),\n",
       " -0.0474: datetime.datetime(2011, 8, 3, 0, 0),\n",
       " 0.144: datetime.datetime(2011, 5, 4, 0, 0),\n",
       " 0.0813: datetime.datetime(2011, 2, 15, 0, 0),\n",
       " 0.1435: datetime.datetime(2010, 11, 9, 0, 0),\n",
       " -0.2857: datetime.datetime(2010, 8, 4, 0, 0)}"
      ]
     },
     "execution_count": 37,
     "metadata": {},
     "output_type": "execute_result"
    }
   ],
   "source": [
    "earnings_dict={}\n",
    "for j in earnings[\"Ann Date\"]:\n",
    "    pass\n",
    "for i in earnings.index:\n",
    "    if type(i)==str and i !=\"N.M.\":\n",
    "        earnings_dict[float(i)]=earnings.at[i,\"Ann Date\"]\n",
    "    elif i == \"N.M.\":\n",
    "        continue\n",
    "    else:\n",
    "        continue\n",
    "for i in earnings_dict:\n",
    "    try:\n",
    "           earnings_dict[i]=dt.strptime(earnings_dict[i],\"%m/%d/%Y\")\n",
    "    except TypeError:\n",
    "        continue\n",
    "earnings_dict        "
   ]
  },
  {
   "cell_type": "code",
   "execution_count": 38,
   "metadata": {},
   "outputs": [],
   "source": [
    "prices=sp[\"Last Price\"]\n"
   ]
  },
  {
   "cell_type": "code",
   "execution_count": 39,
   "metadata": {},
   "outputs": [],
   "source": [
    "prices_dict={}\n",
    "for i in prices.index:\n",
    "    prices_dict[dt.strptime(i, \"%m/%d/%Y\")]=float(prices[i])\n"
   ]
  },
  {
   "cell_type": "code",
   "execution_count": 40,
   "metadata": {},
   "outputs": [
    {
     "name": "stdout",
     "output_type": "stream",
     "text": [
      "2020-01-29 00:00:00   580.99   Has a lower value than requested   0.2306\n",
      "2019-01-30 00:00:00   308.77   Has a lower value than requested   -0.0998\n",
      "2018-08-01 00:00:00   300.84   Has a lower value than requested   -0.0537\n",
      "2018-05-02 00:00:00   301.15   Has a lower value than requested   0.019\n",
      "2018-02-07 00:00:00   345.0   Has a lower value than requested   0.0497\n",
      "2017-08-02 00:00:00   325.89   Has a lower value than requested   0.291\n",
      "2017-02-22 00:00:00   273.51   Has a higher value than requested   0.3926\n",
      "2016-05-04 00:00:00   222.56   Has a lower value than requested   0.0484\n",
      "2015-11-03 00:00:00   208.35   Has a lower value than requested   -0.0432\n",
      "2015-08-05 00:00:00   270.13   Has a lower value than requested   0.196\n",
      "2015-05-06 00:00:00   230.43   Has a lower value than requested   0.2683\n",
      "2014-05-07 00:00:00   201.35   Has a higher value than requested   0.6216\n",
      "2014-02-19 00:00:00   193.64   Has a lower value than requested   0.2791\n",
      "2013-11-05 00:00:00   176.81   Has a lower value than requested   0.25\n",
      "2012-11-05 00:00:00   31.5   Has a lower value than requested   -0.0011\n",
      "2012-07-25 00:00:00   28.95   Has a lower value than requested   0.0542\n",
      "2012-05-09 00:00:00   30.06   Has a lower value than requested   -0.0674\n",
      "2011-11-02 00:00:00   28.71   Has a lower value than requested   0.0772\n",
      "2011-08-03 00:00:00   27.2   Has a lower value than requested   -0.0474\n",
      "2011-05-04 00:00:00   26.69   Has a lower value than requested   0.144\n",
      "2011-02-15 00:00:00   22.84   Has a lower value than requested   0.0813\n",
      "2010-11-09 00:00:00   24.63   Has a lower value than requested   0.1435\n"
     ]
    }
   ],
   "source": [
    "\n",
    "x=float(0.3)\n",
    "for i in earnings_dict.keys():\n",
    "    if abs(i-x) <= 0.5:\n",
    "        try:\n",
    "            if i-x <=0:\n",
    "                print(earnings_dict[i], \" \",prices_dict[earnings_dict[i]],\" \", \"Has a lower value than requested\", \" \", i)\n",
    "            elif i-x > 0:\n",
    "                 print(earnings_dict[i], \" \",prices_dict[earnings_dict[i]],\" \", \"Has a higher value than requested\", \" \", i)\n",
    "        except TypeError:\n",
    "            continue\n",
    "#The -0.1111 is a real problem. What do I do if the same value appears twice for 2 different dates.... earnings dict is the one with the problem\n",
    "#(prices_dict(earnings_dict[i]+timedelta(days=1))-prices_dict(earnings_dict[i]))/prices_dict(earnings_dict[i])"
   ]
  },
  {
   "cell_type": "code",
   "execution_count": 41,
   "metadata": {},
   "outputs": [
    {
     "data": {
      "text/plain": [
       "'x=float(input(\"Please input your surprise value\\n\"))\\n\\nfor i in earnings_dict.keys():\\n    if abs(i-x) <= 0.5:\\n        try:\\n            if i-x <=0:\\n                try:\\n                    print(\"For \", earnings_dict[i], \"\\n\",\"The one day price change after earnings is\",\" \",(prices_dict[earnings_dict[i]+timedelta(days=1)]-prices_dict[earnings_dict[i]])/prices_dict[earnings_dict[i]],\"\\n\",\"The 20 day price change after earnings is\", \" \", (prices_dict[earnings_dict[i]+timedelta(days=20)]-prices_dict[earnings_dict[i]])/prices_dict[earnings_dict[i]],\"\\n\", \"The 100 day change after earnings is\", \" \",(prices_dict[earnings_dict[i]+timedelta(days=100)]-prices_dict[earnings_dict[i]])/prices_dict[earnings_dict[i]],\"\\n\", \"The actual surprise \",i,\"  has a lower value than requested\",\"\\n\")\\n                except KeyError:\\n                    try:\\n                        print(\"For \", earnings_dict[i], \"\\n\",\"The one day price change after earnings is\",\" \",(prices_dict[earnings_dict[i]+timedelta(days=1)]-prices_dict[earnings_dict[i]])/prices_dict[earnings_dict[i]],\"\\n\",\"The 20 day price change after earnings is\", \" \", (prices_dict[earnings_dict[i]+timedelta(days=20)]-prices_dict[earnings_dict[i]])/prices_dict[earnings_dict[i]],\"\\n\", \"The actual surprise \",i,\"  has a lower value than requested\",\"\\n\")\\n                    except KeyError:\\n                        try:\\n                            print(\"For \", earnings_dict[i], \"\\n\",\"The one day price change after earnings is\",\" \",(prices_dict[earnings_dict[i]+timedelta(days=1)]-prices_dict[earnings_dict[i]])/prices_dict[earnings_dict[i]],\"\\n\",\"The actual surprise \",i,\"  has a lower value than requested\",\"\\n\")\\n                        except KeyError:\\n                            continue                          \\n            elif i-x > 0:\\n                try:\\n                    print(\"For \", earnings_dict[i], \"\\n\",\"The one day price change after earnings is\",\" \",(prices_dict[earnings_dict[i]+timedelta(days=1)]-prices_dict[earnings_dict[i]])/prices_dict[earnings_dict[i]],\"\\n\",\"The 20 day price change after earnings is\", \" \", (prices_dict[earnings_dict[i]+timedelta(days=20)]-prices_dict[earnings_dict[i]])/prices_dict[earnings_dict[i]],\"\\n\", \"The 100 day change after earnings is\", \" \",(prices_dict[earnings_dict[i]+timedelta(days=100)]-prices_dict[earnings_dict[i]])/prices_dict[earnings_dict[i]],\"\\n\", \"The actual surprise \",i,\"  has a higher value than requested\",\"\\n\")\\n                except KeyError:\\n                    try:\\n                        print(\"For \", earnings_dict[i], \"\\n\",\"The one day price change after earnings is\",\" \",(prices_dict[earnings_dict[i]+timedelta(days=1)]-prices_dict[earnings_dict[i]])/prices_dict[earnings_dict[i]],\"\\n\",\"The 20 day price change after earnings is\", \" \", (prices_dict[earnings_dict[i]+timedelta(days=20)]-prices_dict[earnings_dict[i]])/prices_dict[earnings_dict[i]],\"\\n\", \"The actual surprise \",i,\"  has a higher value than requested\",\"\\n\")\\n                    except KeyError:\\n                        try:\\n                            print(\"For \", earnings_dict[i], \"\\n\",\"The one day price change after earnings is\",\" \",(prices_dict[earnings_dict[i]+timedelta(days=1)]-prices_dict[earnings_dict[i]])/prices_dict[earnings_dict[i]],\"\\n\",\"The actual surprise \",i,\"  has a higher value than requested\",\"\\n\")\\n                        except KeyError:\\n                            continue      \\n        except TypeError:\\n            continue\\nelse:\\n    print(\"\")'"
      ]
     },
     "execution_count": 41,
     "metadata": {},
     "output_type": "execute_result"
    }
   ],
   "source": [
    "'''x=float(input(\"Please input your surprise value\\n\"))\n",
    "\n",
    "for i in earnings_dict.keys():\n",
    "    if abs(i-x) <= 0.5:\n",
    "        try:\n",
    "            if i-x <=0:\n",
    "                try:\n",
    "                    print(\"For \", earnings_dict[i], \"\\n\",\"The one day price change after earnings is\",\" \",(prices_dict[earnings_dict[i]+timedelta(days=1)]-prices_dict[earnings_dict[i]])/prices_dict[earnings_dict[i]],\"\\n\",\"The 20 day price change after earnings is\", \" \", (prices_dict[earnings_dict[i]+timedelta(days=20)]-prices_dict[earnings_dict[i]])/prices_dict[earnings_dict[i]],\"\\n\", \"The 100 day change after earnings is\", \" \",(prices_dict[earnings_dict[i]+timedelta(days=100)]-prices_dict[earnings_dict[i]])/prices_dict[earnings_dict[i]],\"\\n\", \"The actual surprise \",i,\"  has a lower value than requested\",\"\\n\")\n",
    "                except KeyError:\n",
    "                    try:\n",
    "                        print(\"For \", earnings_dict[i], \"\\n\",\"The one day price change after earnings is\",\" \",(prices_dict[earnings_dict[i]+timedelta(days=1)]-prices_dict[earnings_dict[i]])/prices_dict[earnings_dict[i]],\"\\n\",\"The 20 day price change after earnings is\", \" \", (prices_dict[earnings_dict[i]+timedelta(days=20)]-prices_dict[earnings_dict[i]])/prices_dict[earnings_dict[i]],\"\\n\", \"The actual surprise \",i,\"  has a lower value than requested\",\"\\n\")\n",
    "                    except KeyError:\n",
    "                        try:\n",
    "                            print(\"For \", earnings_dict[i], \"\\n\",\"The one day price change after earnings is\",\" \",(prices_dict[earnings_dict[i]+timedelta(days=1)]-prices_dict[earnings_dict[i]])/prices_dict[earnings_dict[i]],\"\\n\",\"The actual surprise \",i,\"  has a lower value than requested\",\"\\n\")\n",
    "                        except KeyError:\n",
    "                            continue                          \n",
    "            elif i-x > 0:\n",
    "                try:\n",
    "                    print(\"For \", earnings_dict[i], \"\\n\",\"The one day price change after earnings is\",\" \",(prices_dict[earnings_dict[i]+timedelta(days=1)]-prices_dict[earnings_dict[i]])/prices_dict[earnings_dict[i]],\"\\n\",\"The 20 day price change after earnings is\", \" \", (prices_dict[earnings_dict[i]+timedelta(days=20)]-prices_dict[earnings_dict[i]])/prices_dict[earnings_dict[i]],\"\\n\", \"The 100 day change after earnings is\", \" \",(prices_dict[earnings_dict[i]+timedelta(days=100)]-prices_dict[earnings_dict[i]])/prices_dict[earnings_dict[i]],\"\\n\", \"The actual surprise \",i,\"  has a higher value than requested\",\"\\n\")\n",
    "                except KeyError:\n",
    "                    try:\n",
    "                        print(\"For \", earnings_dict[i], \"\\n\",\"The one day price change after earnings is\",\" \",(prices_dict[earnings_dict[i]+timedelta(days=1)]-prices_dict[earnings_dict[i]])/prices_dict[earnings_dict[i]],\"\\n\",\"The 20 day price change after earnings is\", \" \", (prices_dict[earnings_dict[i]+timedelta(days=20)]-prices_dict[earnings_dict[i]])/prices_dict[earnings_dict[i]],\"\\n\", \"The actual surprise \",i,\"  has a higher value than requested\",\"\\n\")\n",
    "                    except KeyError:\n",
    "                        try:\n",
    "                            print(\"For \", earnings_dict[i], \"\\n\",\"The one day price change after earnings is\",\" \",(prices_dict[earnings_dict[i]+timedelta(days=1)]-prices_dict[earnings_dict[i]])/prices_dict[earnings_dict[i]],\"\\n\",\"The actual surprise \",i,\"  has a higher value than requested\",\"\\n\")\n",
    "                        except KeyError:\n",
    "                            continue      \n",
    "        except TypeError:\n",
    "            continue\n",
    "else:\n",
    "    print(\"\")'''"
   ]
  },
  {
   "cell_type": "code",
   "execution_count": 42,
   "metadata": {},
   "outputs": [],
   "source": [
    "unneeded_data=['Per', 'Per End', 'C', 'Reported',\n",
    "       'Guidance', '%Guid Surp', '%Px Chg', 'T12M', 'P/E']\n",
    "earnings.drop(unneeded_data,inplace=True,axis=1)\n"
   ]
  },
  {
   "cell_type": "code",
   "execution_count": 43,
   "metadata": {},
   "outputs": [],
   "source": [
    "earnings[\"surprisevalues\"]=earnings.index\n"
   ]
  },
  {
   "cell_type": "code",
   "execution_count": 44,
   "metadata": {},
   "outputs": [
    {
     "name": "stdout",
     "output_type": "stream",
     "text": [
      "[0, 1, 2, 3, 4, 5, 6, 7, 8, 9, 10, 11, 12, 13, 14, 15, 16, 17, 18, 19, 20, 21, 22, 23, 24, 25, 26, 27, 28, 29, 30, 31, 32, 33, 34, 35, 36, 37, 38, 39, 40, 41, 42, 43, 44, 45]\n"
     ]
    }
   ],
   "source": [
    "len(earnings)        \n",
    "i=0\n",
    "list=[]\n",
    "while i < len(earnings):\n",
    "    list.append(i)\n",
    "    i+=1\n",
    "print(list) \n",
    "earnings.index=list\n",
    "\n",
    "   "
   ]
  },
  {
   "cell_type": "code",
   "execution_count": 45,
   "metadata": {
    "scrolled": false
   },
   "outputs": [],
   "source": [
    "earnings.index=earnings[\"surprisevalues\"] \n"
   ]
  },
  {
   "cell_type": "code",
   "execution_count": 46,
   "metadata": {
    "scrolled": true
   },
   "outputs": [],
   "source": [
    "sv=earnings[\"surprisevalues\"]\n",
    "nm=sv.str.contains(\"N.M.\")\n",
    "earnings[\"surprisevalues\"]=np.where(nm,None,sv.str.replace(\" \",\"-\"))\n",
    "#earnings[\"surprisevalues\"].fillna(mean,inplace=True)\n",
    "list=[]\n",
    "for i in earnings[\"surprisevalues\"]:\n",
    "    try:\n",
    "        list.append(float(i))\n",
    "    except TypeError:\n",
    "        list.append(i)"
   ]
  },
  {
   "cell_type": "code",
   "execution_count": 47,
   "metadata": {},
   "outputs": [],
   "source": [
    "earnings[\"surprisevalues\"]=list"
   ]
  },
  {
   "cell_type": "code",
   "execution_count": 48,
   "metadata": {},
   "outputs": [],
   "source": [
    "list2=[]\n",
    "for i in list:\n",
    "    if type(i)==float:\n",
    "        list2.append(i)\n",
    "mean=float(sum(list2)/len(list2))\n",
    "array2=np.array(list2)\n",
    "sd=float(np.std(array2))\n"
   ]
  },
  {
   "cell_type": "code",
   "execution_count": 49,
   "metadata": {},
   "outputs": [],
   "source": [
    "zlist=[]\n",
    "zlist2=[]\n",
    "for i in earnings[\"surprisevalues\"]:\n",
    "    zlist.append(i)\n",
    "for i in zlist:\n",
    "    zlist2.append((i-mean)/sd)\n"
   ]
  },
  {
   "cell_type": "code",
   "execution_count": 50,
   "metadata": {},
   "outputs": [],
   "source": [
    "earnings[\"z\"]=zlist2"
   ]
  },
  {
   "cell_type": "code",
   "execution_count": 51,
   "metadata": {},
   "outputs": [],
   "source": [
    "surplist=[]\n",
    "for i in zlist2:\n",
    "        if abs(i) >0:\n",
    "            if abs(i) <=1:\n",
    "                surplist.append(\"small\")\n",
    "            elif abs(i)>1: \n",
    "                if abs(i)<=2:\n",
    "                    surplist.append(\"medium\")\n",
    "                elif abs(i)>2:\n",
    "                    surplist.append(\"large\")\n",
    "        else:\n",
    "            surplist.append(None)"
   ]
  },
  {
   "cell_type": "code",
   "execution_count": 52,
   "metadata": {},
   "outputs": [],
   "source": [
    "dirlist=[]\n",
    "for i in zlist2:\n",
    "    if i>0:\n",
    "        dirlist.append(\"positive\")\n",
    "    elif i<0:\n",
    "        dirlist.append(\"negative\")\n",
    "    elif i==0:\n",
    "        dirlist.append(\"No surprise\")\n",
    "    else:\n",
    "        dirlist.append(None)"
   ]
  },
  {
   "cell_type": "code",
   "execution_count": 53,
   "metadata": {},
   "outputs": [],
   "source": [
    "earnings[\"direction\"]=dirlist"
   ]
  },
  {
   "cell_type": "code",
   "execution_count": 54,
   "metadata": {},
   "outputs": [],
   "source": [
    "earnings[\"surprisemagnitude\"]=surplist"
   ]
  },
  {
   "cell_type": "code",
   "execution_count": 55,
   "metadata": {},
   "outputs": [],
   "source": [
    "list4=[]\n",
    "i=0\n",
    "while i<len(earnings):\n",
    "    list4.append(i)\n",
    "    i+=1\n"
   ]
  },
  {
   "cell_type": "code",
   "execution_count": 56,
   "metadata": {},
   "outputs": [],
   "source": [
    "earnings.index=list4"
   ]
  },
  {
   "cell_type": "code",
   "execution_count": 57,
   "metadata": {},
   "outputs": [],
   "source": [
    "earnings=earnings.drop(earnings.index[0])"
   ]
  },
  {
   "cell_type": "code",
   "execution_count": 58,
   "metadata": {},
   "outputs": [],
   "source": [
    "list5=[]\n",
    "i=0\n",
    "while i<len(earnings):\n",
    "    list5.append(i)\n",
    "    i+=1"
   ]
  },
  {
   "cell_type": "code",
   "execution_count": 59,
   "metadata": {},
   "outputs": [],
   "source": [
    "earnings.index=list5"
   ]
  },
  {
   "cell_type": "code",
   "execution_count": 60,
   "metadata": {},
   "outputs": [],
   "source": [
    "dates=[]\n",
    "dates2=[]\n",
    "for i in earnings[\"Ann Date\"]:\n",
    "    dates.append(i)\n",
    "for i in dates:\n",
    "    dates2.append(dt.strptime(i,\"%m/%d/%Y\"))\n",
    "earnings[\"Ann Date\"]=dates2    "
   ]
  },
  {
   "cell_type": "code",
   "execution_count": 61,
   "metadata": {},
   "outputs": [],
   "source": [
    "for i in earnings.index:\n",
    "    if earnings.loc[i][\"Actual\"] >0 and earnings.loc[i][\"Estimate\"]<0:\n",
    "        earnings.at[i,\"direction\"]=\"positive\"\n",
    "        earnings.at[i,\"surprisemagnitude\"]=\"huge\"\n",
    "    elif earnings.loc[i][\"Actual\"]<0 and earnings.loc[i][\"Estimate\"]>0:\n",
    "        earnings.at[i,\"direction\"]=\"negative\"\n",
    "        earnings.at[i,\"surprisemagnitude\"]=\"huge\""
   ]
  },
  {
   "cell_type": "code",
   "execution_count": 62,
   "metadata": {},
   "outputs": [
    {
     "data": {
      "text/plain": [
       "'for i in earnings.index:\\n     if earnings.iloc[i][\"direction\"]==\"positive\":\\n            print(earnings.iloc[i][\"Ann Date\"])'"
      ]
     },
     "execution_count": 62,
     "metadata": {},
     "output_type": "execute_result"
    }
   ],
   "source": [
    "'''for i in earnings.index:\n",
    "     if earnings.iloc[i][\"direction\"]==\"positive\":\n",
    "            print(earnings.iloc[i][\"Ann Date\"])'''"
   ]
  },
  {
   "cell_type": "code",
   "execution_count": 63,
   "metadata": {},
   "outputs": [],
   "source": [
    "spdate=[]\n",
    "spdate2=[]\n",
    "for i in sp.index:\n",
    "    spdate.append(i)\n",
    "for i in spdate:\n",
    "    spdate2.append(dt.strptime(i,\"%m/%d/%Y\"))\n",
    "    "
   ]
  },
  {
   "cell_type": "code",
   "execution_count": 64,
   "metadata": {},
   "outputs": [],
   "source": [
    "sp.index=spdate2"
   ]
  },
  {
   "cell_type": "code",
   "execution_count": 65,
   "metadata": {},
   "outputs": [
    {
     "name": "stdout",
     "output_type": "stream",
     "text": [
      "positive or negative?negative\n",
      "small, medium, large or huge?large\n",
      "On 2019-07-24 00:00:00 \n",
      " The one day price change was -36.06 \n",
      " The 20 day price change was -29.879999999999995 \n",
      " And the 100 day price change was 48.43000000000001 \n",
      "\n"
     ]
    }
   ],
   "source": [
    "direc=input(\"positive or negative?\")\n",
    "mag=input(\"small, medium, large or huge?\")\n",
    "for i in earnings.index:\n",
    "    if earnings.iloc[i][\"direction\"]==direc and earnings.iloc[i][\"surprisemagnitude\"]==mag:\n",
    "        try:\n",
    "            print(\"On\",earnings.loc[i][\"Ann Date\"],\"\\n The one day price change was\",sp.at[(earnings.loc[i][\"Ann Date\"]+timedelta(days=1)),\"Last Price\"]-sp.at[earnings.loc[i][\"Ann Date\"],\"Last Price\"],\"\\n The 20 day price change was\",sp.at[(earnings.loc[i][\"Ann Date\"]+timedelta(days=20)), \"Last Price\"]-sp.at[earnings.loc[i][\"Ann Date\"], \"Last Price\"],\"\\n And the 100 day price change was\",sp.at[(earnings.loc[i][\"Ann Date\"]+timedelta(days=100)), \"Last Price\"]-sp.at[earnings.loc[i][\"Ann Date\"], \"Last Price\"],\"\\n\")\n",
    "        except KeyError:\n",
    "            try:\n",
    "                print(\"On\",earnings.loc[i][\"Ann Date\"],\"\\n The one day price change was\",sp.at[(earnings.loc[i][\"Ann Date\"]+timedelta(days=1)),\"Last Price\"]-sp.at[earnings.loc[i][\"Ann Date\"],\"Last Price\"],\"\\n And the 20 day price change was\",sp.at[(earnings.loc[i][\"Ann Date\"]+timedelta(days=50)), \"Last Price\"]-sp.at[earnings.loc[i][\"Ann Date\"], \"Last Price\"],\"\\n\")\n",
    "            except KeyError:\n",
    "                print(\"On\",earnings.loc[i][\"Ann Date\"],\"\\n The one day price change was\",sp.at[(earnings.loc[i][\"Ann Date\"]+timedelta(days=1)),\"Last Price\"]-sp.at[earnings.loc[i][\"Ann Date\"],\"Last Price\"],\"\\n\")\n"
   ]
  },
  {
   "cell_type": "code",
   "execution_count": null,
   "metadata": {},
   "outputs": [],
   "source": []
  },
  {
   "cell_type": "code",
   "execution_count": null,
   "metadata": {},
   "outputs": [],
   "source": []
  }
 ],
 "metadata": {
  "kernelspec": {
   "display_name": "Python 3",
   "language": "python",
   "name": "python3"
  },
  "language_info": {
   "codemirror_mode": {
    "name": "ipython",
    "version": 3
   },
   "file_extension": ".py",
   "mimetype": "text/x-python",
   "name": "python",
   "nbconvert_exporter": "python",
   "pygments_lexer": "ipython3",
   "version": "3.7.3"
  }
 },
 "nbformat": 4,
 "nbformat_minor": 2
}
