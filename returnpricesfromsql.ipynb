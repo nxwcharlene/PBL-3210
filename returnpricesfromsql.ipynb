{
 "cells": [
  {
   "cell_type": "code",
   "execution_count": 35,
   "metadata": {},
   "outputs": [],
   "source": [
    "import mysql.connector\n",
    "import pandas as pd\n",
    "import statistics as st\n",
    "from datetime import datetime as dt\n",
    "from datetime import timedelta\n",
    "db_connection = mysql.connector.connect(user='root', password='Gregory2',host='localhost',\n",
    "                                     port='3306', database='pbl3210 db2')"
   ]
  },
  {
   "cell_type": "code",
   "execution_count": 23,
   "metadata": {},
   "outputs": [],
   "source": [
    "stockidtab=pd.read_sql_query(\"SELECT * FROM STOCK_ID\",db_connection)\n",
    "stockpricetab=pd.read_sql_query(\"SELECT * FROM STOCKPRICE\",db_connection)\n",
    "stockearningstab=pd.read_sql_query(\"SELECT * FROM EARNINGS\",db_connection)\n"
   ]
  },
  {
   "cell_type": "code",
   "execution_count": 24,
   "metadata": {},
   "outputs": [],
   "source": [
    "zeelist=[]\n",
    "for i in stockearningstab[\"z_score\"]:\n",
    "    try:\n",
    "        zeelist.append(float(i))\n",
    "    except TypeError:\n",
    "        zeelist.append(i)\n",
    "stockearningstab[\"z_score\"]=zeelist\n",
    "   "
   ]
  },
  {
   "cell_type": "code",
   "execution_count": 25,
   "metadata": {},
   "outputs": [],
   "source": [
    "def stockvaluetable(Ticker):\n",
    "    for i in stockidtab.index:\n",
    "        if stockidtab.at[i,\"ticker\"]==Ticker:\n",
    "            id_value=stockidtab.at[i,\"stock_id\"]\n",
    "    df=stockpricetab[stockpricetab[\"stock_id\"]==id_value]\n",
    "    df.index=df[\"Date\"]\n",
    "    return df"
   ]
  },
  {
   "cell_type": "code",
   "execution_count": 26,
   "metadata": {},
   "outputs": [],
   "source": [
    "def stocksurprisetable(Ticker):\n",
    "    for i in stockidtab.index:\n",
    "        if stockidtab.at[i,\"ticker\"]==Ticker:\n",
    "            id_value=stockidtab.at[i,\"stock_id\"]\n",
    "    df2=stockearningstab[stockearningstab[\"stock_id\"]==id_value]\n",
    "    return df2\n"
   ]
  },
  {
   "cell_type": "code",
   "execution_count": 27,
   "metadata": {},
   "outputs": [
    {
     "name": "stdout",
     "output_type": "stream",
     "text": [
      "Please input the ticker you are looking for\n",
      "MMM\n"
     ]
    }
   ],
   "source": [
    "Ticker=input(\"Please input the ticker you are looking for\\n\")"
   ]
  },
  {
   "cell_type": "code",
   "execution_count": 28,
   "metadata": {},
   "outputs": [
    {
     "name": "stdout",
     "output_type": "stream",
     "text": [
      "            stock_id        Date    Price\n",
      "Date                                     \n",
      "1990-01-02         1  1990-01-02   19.366\n",
      "1990-01-03         1  1990-01-03   19.577\n",
      "1990-01-04         1  1990-01-04   19.727\n",
      "1990-01-05         1  1990-01-05   19.396\n",
      "1990-01-08         1  1990-01-08   19.908\n",
      "...              ...         ...      ...\n",
      "2020-02-12         1  2020-02-12  163.800\n",
      "2020-02-13         1  2020-02-13  159.760\n",
      "2020-02-14         1  2020-02-14  161.010\n",
      "2020-02-18         1  2020-02-18  158.880\n",
      "2020-02-19         1  2020-02-19  159.340\n",
      "\n",
      "[7592 rows x 3 columns]\n"
     ]
    }
   ],
   "source": [
    "values=stockvaluetable(Ticker)\n",
    "surprises=stocksurprisetable(Ticker)\n",
    "print(values)"
   ]
  },
  {
   "cell_type": "code",
   "execution_count": 29,
   "metadata": {},
   "outputs": [
    {
     "name": "stderr",
     "output_type": "stream",
     "text": [
      "C:\\ProgramData\\Anaconda3\\lib\\site-packages\\ipykernel_launcher.py:10: SettingWithCopyWarning: \n",
      "A value is trying to be set on a copy of a slice from a DataFrame.\n",
      "Try using .loc[row_indexer,col_indexer] = value instead\n",
      "\n",
      "See the caveats in the documentation: http://pandas.pydata.org/pandas-docs/stable/user_guide/indexing.html#returning-a-view-versus-a-copy\n",
      "  # Remove the CWD from sys.path while we load stuff.\n"
     ]
    }
   ],
   "source": [
    "z_score_standardised=[]\n",
    "z_score_values=[]\n",
    "for i in surprises.index:\n",
    "    z_score_values.append(surprises.at[i,\"z_score\"])\n",
    "mean=st.mean(z_score_values)   \n",
    "sd=st.stdev(z_score_values)\n",
    "for i in z_score_values:\n",
    "    z_score_standardised.append((i-mean)/sd)\n",
    "z_score_standardised  \n",
    "surprises[\"z_score_standardised\"]=z_score_standardised"
   ]
  },
  {
   "cell_type": "code",
   "execution_count": 30,
   "metadata": {},
   "outputs": [],
   "source": [
    "dirlist=[]\n",
    "for i in surprises.index:\n",
    "    if surprises.loc[i,\"z_score\"]==0:\n",
    "        dirlist.append(\"No Surprise\")\n",
    "    elif surprises.loc[i,\"z_score\"]>0:\n",
    "        dirlist.append(\"Positive\")\n",
    "    elif surprises.loc[i,\"z_score\"]<0:\n",
    "        dirlist.append(\"Negative\")\n",
    "    else:\n",
    "        dirlist.append(None)\n",
    "        "
   ]
  },
  {
   "cell_type": "code",
   "execution_count": 31,
   "metadata": {},
   "outputs": [
    {
     "name": "stderr",
     "output_type": "stream",
     "text": [
      "C:\\ProgramData\\Anaconda3\\lib\\site-packages\\ipykernel_launcher.py:1: SettingWithCopyWarning: \n",
      "A value is trying to be set on a copy of a slice from a DataFrame.\n",
      "Try using .loc[row_indexer,col_indexer] = value instead\n",
      "\n",
      "See the caveats in the documentation: http://pandas.pydata.org/pandas-docs/stable/user_guide/indexing.html#returning-a-view-versus-a-copy\n",
      "  \"\"\"Entry point for launching an IPython kernel.\n"
     ]
    }
   ],
   "source": [
    "surprises[\"Direction\"]=dirlist"
   ]
  },
  {
   "cell_type": "code",
   "execution_count": 32,
   "metadata": {},
   "outputs": [
    {
     "data": {
      "text/html": [
       "<div>\n",
       "<style scoped>\n",
       "    .dataframe tbody tr th:only-of-type {\n",
       "        vertical-align: middle;\n",
       "    }\n",
       "\n",
       "    .dataframe tbody tr th {\n",
       "        vertical-align: top;\n",
       "    }\n",
       "\n",
       "    .dataframe thead th {\n",
       "        text-align: right;\n",
       "    }\n",
       "</style>\n",
       "<table border=\"1\" class=\"dataframe\">\n",
       "  <thead>\n",
       "    <tr style=\"text-align: right;\">\n",
       "      <th></th>\n",
       "      <th>stock_id</th>\n",
       "      <th>Quarter</th>\n",
       "      <th>Date</th>\n",
       "      <th>Median</th>\n",
       "      <th>Actual</th>\n",
       "      <th>StdDev</th>\n",
       "      <th>z_score</th>\n",
       "      <th>z_score_standardised</th>\n",
       "      <th>Direction</th>\n",
       "    </tr>\n",
       "  </thead>\n",
       "  <tbody>\n",
       "    <tr>\n",
       "      <td>0</td>\n",
       "      <td>1</td>\n",
       "      <td>1999Q1</td>\n",
       "      <td>1999-04-30</td>\n",
       "      <td>0.4700</td>\n",
       "      <td>0.475</td>\n",
       "      <td>0.01400</td>\n",
       "      <td>0.357143</td>\n",
       "      <td>-0.345947</td>\n",
       "      <td>Positive</td>\n",
       "    </tr>\n",
       "    <tr>\n",
       "      <td>1</td>\n",
       "      <td>1</td>\n",
       "      <td>1999Q2</td>\n",
       "      <td>1999-07-29</td>\n",
       "      <td>0.5000</td>\n",
       "      <td>0.515</td>\n",
       "      <td>0.00700</td>\n",
       "      <td>2.142857</td>\n",
       "      <td>0.410922</td>\n",
       "      <td>Positive</td>\n",
       "    </tr>\n",
       "    <tr>\n",
       "      <td>2</td>\n",
       "      <td>1</td>\n",
       "      <td>1999Q3</td>\n",
       "      <td>1999-10-25</td>\n",
       "      <td>0.5250</td>\n",
       "      <td>0.570</td>\n",
       "      <td>0.00800</td>\n",
       "      <td>5.625000</td>\n",
       "      <td>1.886818</td>\n",
       "      <td>Positive</td>\n",
       "    </tr>\n",
       "    <tr>\n",
       "      <td>3</td>\n",
       "      <td>1</td>\n",
       "      <td>1999Q4</td>\n",
       "      <td>2000-01-26</td>\n",
       "      <td>0.5025</td>\n",
       "      <td>0.550</td>\n",
       "      <td>0.00799</td>\n",
       "      <td>5.944931</td>\n",
       "      <td>2.022420</td>\n",
       "      <td>Positive</td>\n",
       "    </tr>\n",
       "    <tr>\n",
       "      <td>4</td>\n",
       "      <td>1</td>\n",
       "      <td>2000Q1</td>\n",
       "      <td>2000-04-25</td>\n",
       "      <td>0.5400</td>\n",
       "      <td>0.565</td>\n",
       "      <td>0.00433</td>\n",
       "      <td>5.773672</td>\n",
       "      <td>1.949832</td>\n",
       "      <td>Positive</td>\n",
       "    </tr>\n",
       "    <tr>\n",
       "      <td>...</td>\n",
       "      <td>...</td>\n",
       "      <td>...</td>\n",
       "      <td>...</td>\n",
       "      <td>...</td>\n",
       "      <td>...</td>\n",
       "      <td>...</td>\n",
       "      <td>...</td>\n",
       "      <td>...</td>\n",
       "      <td>...</td>\n",
       "    </tr>\n",
       "    <tr>\n",
       "      <td>79</td>\n",
       "      <td>1</td>\n",
       "      <td>2018Q4</td>\n",
       "      <td>2019-01-29</td>\n",
       "      <td>2.2800</td>\n",
       "      <td>2.310</td>\n",
       "      <td>0.02309</td>\n",
       "      <td>1.299264</td>\n",
       "      <td>0.053368</td>\n",
       "      <td>Positive</td>\n",
       "    </tr>\n",
       "    <tr>\n",
       "      <td>80</td>\n",
       "      <td>1</td>\n",
       "      <td>2019Q1</td>\n",
       "      <td>2019-04-25</td>\n",
       "      <td>2.4900</td>\n",
       "      <td>2.230</td>\n",
       "      <td>0.06600</td>\n",
       "      <td>-3.939394</td>\n",
       "      <td>-2.167022</td>\n",
       "      <td>Negative</td>\n",
       "    </tr>\n",
       "    <tr>\n",
       "      <td>81</td>\n",
       "      <td>1</td>\n",
       "      <td>2019Q2</td>\n",
       "      <td>2019-07-25</td>\n",
       "      <td>2.0550</td>\n",
       "      <td>2.130</td>\n",
       "      <td>0.08415</td>\n",
       "      <td>0.891266</td>\n",
       "      <td>-0.119561</td>\n",
       "      <td>Positive</td>\n",
       "    </tr>\n",
       "    <tr>\n",
       "      <td>82</td>\n",
       "      <td>1</td>\n",
       "      <td>2019Q3</td>\n",
       "      <td>2019-10-24</td>\n",
       "      <td>2.5100</td>\n",
       "      <td>2.580</td>\n",
       "      <td>0.05706</td>\n",
       "      <td>1.227129</td>\n",
       "      <td>0.022794</td>\n",
       "      <td>Positive</td>\n",
       "    </tr>\n",
       "    <tr>\n",
       "      <td>83</td>\n",
       "      <td>1</td>\n",
       "      <td>2019Q4</td>\n",
       "      <td>2020-01-28</td>\n",
       "      <td>2.1000</td>\n",
       "      <td>1.950</td>\n",
       "      <td>0.06103</td>\n",
       "      <td>-2.457808</td>\n",
       "      <td>-1.539056</td>\n",
       "      <td>Negative</td>\n",
       "    </tr>\n",
       "  </tbody>\n",
       "</table>\n",
       "<p>84 rows × 9 columns</p>\n",
       "</div>"
      ],
      "text/plain": [
       "    stock_id Quarter        Date  Median  Actual   StdDev   z_score  \\\n",
       "0          1  1999Q1  1999-04-30  0.4700   0.475  0.01400  0.357143   \n",
       "1          1  1999Q2  1999-07-29  0.5000   0.515  0.00700  2.142857   \n",
       "2          1  1999Q3  1999-10-25  0.5250   0.570  0.00800  5.625000   \n",
       "3          1  1999Q4  2000-01-26  0.5025   0.550  0.00799  5.944931   \n",
       "4          1  2000Q1  2000-04-25  0.5400   0.565  0.00433  5.773672   \n",
       "..       ...     ...         ...     ...     ...      ...       ...   \n",
       "79         1  2018Q4  2019-01-29  2.2800   2.310  0.02309  1.299264   \n",
       "80         1  2019Q1  2019-04-25  2.4900   2.230  0.06600 -3.939394   \n",
       "81         1  2019Q2  2019-07-25  2.0550   2.130  0.08415  0.891266   \n",
       "82         1  2019Q3  2019-10-24  2.5100   2.580  0.05706  1.227129   \n",
       "83         1  2019Q4  2020-01-28  2.1000   1.950  0.06103 -2.457808   \n",
       "\n",
       "    z_score_standardised Direction  \n",
       "0              -0.345947  Positive  \n",
       "1               0.410922  Positive  \n",
       "2               1.886818  Positive  \n",
       "3               2.022420  Positive  \n",
       "4               1.949832  Positive  \n",
       "..                   ...       ...  \n",
       "79              0.053368  Positive  \n",
       "80             -2.167022  Negative  \n",
       "81             -0.119561  Positive  \n",
       "82              0.022794  Positive  \n",
       "83             -1.539056  Negative  \n",
       "\n",
       "[84 rows x 9 columns]"
      ]
     },
     "execution_count": 32,
     "metadata": {},
     "output_type": "execute_result"
    }
   ],
   "source": [
    "surprises"
   ]
  },
  {
   "cell_type": "code",
   "execution_count": 47,
   "metadata": {},
   "outputs": [
    {
     "name": "stdout",
     "output_type": "stream",
     "text": [
      "stock_id\n",
      "Quarter\n",
      "Date\n",
      "Median\n",
      "Actual\n",
      "StdDev\n",
      "z_score\n",
      "z_score_standardised\n",
      "Direction\n",
      "Magnitude\n"
     ]
    },
    {
     "name": "stderr",
     "output_type": "stream",
     "text": [
      "C:\\ProgramData\\Anaconda3\\lib\\site-packages\\ipykernel_launcher.py:16: SettingWithCopyWarning: \n",
      "A value is trying to be set on a copy of a slice from a DataFrame.\n",
      "Try using .loc[row_indexer,col_indexer] = value instead\n",
      "\n",
      "See the caveats in the documentation: http://pandas.pydata.org/pandas-docs/stable/user_guide/indexing.html#returning-a-view-versus-a-copy\n",
      "  app.launch_new_instance()\n"
     ]
    }
   ],
   "source": [
    "maglist=[]\n",
    "for i in z_score_values:\n",
    "    if i==0:\n",
    "        maglist.append(\"No Surprise\")\n",
    "    elif abs(i)>0:\n",
    "        if abs(i)<=1:\n",
    "            maglist.append(\"Small\")\n",
    "        elif abs(i)>1:\n",
    "            if abs(i)<=2:\n",
    "                maglist.append(\"Medium\")\n",
    "            else:\n",
    "                maglist.append(\"Large\")\n",
    "    else:\n",
    "        maglist.append(None)\n",
    "      \n",
    "surprises[\"Magnitude\"]=maglist  \n",
    "surprises\n",
    "for i in surprises:\n",
    "    print(i)"
   ]
  },
  {
   "cell_type": "code",
   "execution_count": 49,
   "metadata": {},
   "outputs": [
    {
     "ename": "SyntaxError",
     "evalue": "invalid syntax (<ipython-input-49-fac9d4650816>, line 14)",
     "output_type": "error",
     "traceback": [
      "\u001b[1;36m  File \u001b[1;32m\"<ipython-input-49-fac9d4650816>\"\u001b[1;36m, line \u001b[1;32m14\u001b[0m\n\u001b[1;33m    except KeyError:\u001b[0m\n\u001b[1;37m         ^\u001b[0m\n\u001b[1;31mSyntaxError\u001b[0m\u001b[1;31m:\u001b[0m invalid syntax\n"
     ]
    }
   ],
   "source": [
    "#surprises and values, Date and Price\n",
    "direc=input(\"Positive or Negative?\")\n",
    "mag=input(\"Small, Medium or Large?\")\n",
    "for i in surprises.index:\n",
    "    try:\n",
    "        if surprises.iloc[i][\"Direction\"]==direc and surprises.iloc[i][\"Magnitude\"]==mag:\n",
    "            try:\n",
    "                print(\"On\",surprises.loc[i][\"Date\"],\"\\n The one day price change was\",values.at[(surprises.loc[i][\"Date\"]+timedelta(days=1)),\"Price\"]-values.at[surprises.loc[i][\"Date\"],\"Price\"],\"\\n The 20 day price change was\",values.at[(surprises.loc[i][\"Date\"]+timedelta(days=20)), \"Price\"]-values.at[surprises.loc[i][\"Date\"], \"Price\"],\"\\n And the 100 day price change was\",values.at[(surprises.loc[i][\"Date\"]+timedelta(days=100)), \"Price\"]-values.at[surprises.loc[i][\"Date\"], \"Price\"],\"\\n\")\n",
    "            except KeyError:\n",
    "                try:\n",
    "                    print(\"On\",surprises.loc[i][\"Date\"],\"\\n The one day price change was\",values.at[(surprises.loc[i][\"Date\"]+timedelta(days=1)),\"Price\"]-values.at[surprises.loc[i][\"Date\"],\"Price\"],\"\\n And the 20 day price change was\",values.at[(surprises.loc[i][\"Date\"]+timedelta(days=50)), \"Price\"]-values.at[surprises.loc[i][\"Date\"], \"Price\"],\"\\n\")\n",
    "                except KeyError:\n",
    "                    print(\"On\",surprises.loc[i][\"Date\"],\"\\n The one day price change was\",values.at[(surprises.loc[i][\"Date\"]+timedelta(days=1)),\"Price\"]-values.at[surprises.loc[i][\"Date\"],\"Price\"],\"\\n\")\n",
    "    except KeyError:\n",
    "        continue"
   ]
  },
  {
   "cell_type": "code",
   "execution_count": null,
   "metadata": {},
   "outputs": [],
   "source": []
  }
 ],
 "metadata": {
  "kernelspec": {
   "display_name": "Python 3",
   "language": "python",
   "name": "python3"
  },
  "language_info": {
   "codemirror_mode": {
    "name": "ipython",
    "version": 3
   },
   "file_extension": ".py",
   "mimetype": "text/x-python",
   "name": "python",
   "nbconvert_exporter": "python",
   "pygments_lexer": "ipython3",
   "version": "3.7.4"
  }
 },
 "nbformat": 4,
 "nbformat_minor": 2
}
