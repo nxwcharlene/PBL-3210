{
 "cells": [
  {
   "cell_type": "code",
   "execution_count": 1,
   "metadata": {},
   "outputs": [],
   "source": [
    "import mysql.connector\n",
    "import pandas as pd\n",
    "import statistics as st\n",
    "from datetime import datetime as dt\n",
    "from datetime import timedelta\n",
    "db_connection = mysql.connector.connect(user='root', password='Gregory2',host='localhost',\n",
    "                                     port='3306', database='pbl3210 db2')"
   ]
  },
  {
   "cell_type": "code",
   "execution_count": 2,
   "metadata": {},
   "outputs": [],
   "source": [
    "stockidtab=pd.read_sql_query(\"SELECT * FROM STOCK_ID\",db_connection)\n",
    "stockpricetab=pd.read_sql_query(\"SELECT * FROM STOCKPRICE\",db_connection)\n",
    "stockearningstab=pd.read_sql_query(\"SELECT * FROM EARNINGS\",db_connection)\n"
   ]
  },
  {
   "cell_type": "code",
   "execution_count": 3,
   "metadata": {},
   "outputs": [],
   "source": [
    "zeelist=[]\n",
    "for i in stockearningstab[\"z_score\"]:\n",
    "    try:\n",
    "        zeelist.append(float(i))\n",
    "    except TypeError:\n",
    "        zeelist.append(i)\n",
    "stockearningstab[\"z_score\"]=zeelist\n",
    "   "
   ]
  },
  {
   "cell_type": "code",
   "execution_count": 4,
   "metadata": {},
   "outputs": [],
   "source": [
    "def stockvaluetable(Ticker):\n",
    "    for i in stockidtab.index:\n",
    "        if stockidtab.at[i,\"ticker\"]==Ticker:\n",
    "            id_value=stockidtab.at[i,\"stock_id\"]\n",
    "    df=stockpricetab[stockpricetab[\"stock_id\"]==id_value]\n",
    "    df.index=df[\"Date\"]\n",
    "    return df"
   ]
  },
  {
   "cell_type": "code",
   "execution_count": 5,
   "metadata": {},
   "outputs": [],
   "source": [
    "def stocksurprisetable(Ticker):\n",
    "    for i in stockidtab.index:\n",
    "        if stockidtab.at[i,\"ticker\"]==Ticker:\n",
    "            id_value=stockidtab.at[i,\"stock_id\"]\n",
    "    df2=stockearningstab[stockearningstab[\"stock_id\"]==id_value]\n",
    "    return df2\n"
   ]
  },
  {
   "cell_type": "code",
   "execution_count": 48,
   "metadata": {},
   "outputs": [
    {
     "name": "stdout",
     "output_type": "stream",
     "text": [
      "Please input the ticker you are looking for\n",
      "NKE\n"
     ]
    }
   ],
   "source": [
    "Ticker=input(\"Please input the ticker you are looking for\\n\")"
   ]
  },
  {
   "cell_type": "code",
   "execution_count": 49,
   "metadata": {},
   "outputs": [
    {
     "name": "stdout",
     "output_type": "stream",
     "text": [
      "            stock_id        Date     Price\n",
      "Date                                      \n",
      "1990-01-02       345  1990-01-02    0.8789\n",
      "1990-01-03       345  1990-01-03    0.8594\n",
      "1990-01-04       345  1990-01-04    0.8418\n",
      "1990-01-05       345  1990-01-05    0.8672\n",
      "1990-01-08       345  1990-01-08    0.8633\n",
      "...              ...         ...       ...\n",
      "2020-02-12       345  2020-02-12  103.0000\n",
      "2020-02-13       345  2020-02-13  103.3700\n",
      "2020-02-14       345  2020-02-14  103.5400\n",
      "2020-02-18       345  2020-02-18  102.0000\n",
      "2020-02-19       345  2020-02-19  102.4600\n",
      "\n",
      "[7592 rows x 3 columns]\n"
     ]
    }
   ],
   "source": [
    "values=stockvaluetable(Ticker)\n",
    "surprises=stocksurprisetable(Ticker)\n",
    "print(values)"
   ]
  },
  {
   "cell_type": "code",
   "execution_count": 50,
   "metadata": {},
   "outputs": [
    {
     "name": "stderr",
     "output_type": "stream",
     "text": [
      "C:\\ProgramData\\Anaconda3\\lib\\site-packages\\ipykernel_launcher.py:10: SettingWithCopyWarning: \n",
      "A value is trying to be set on a copy of a slice from a DataFrame.\n",
      "Try using .loc[row_indexer,col_indexer] = value instead\n",
      "\n",
      "See the caveats in the documentation: http://pandas.pydata.org/pandas-docs/stable/user_guide/indexing.html#returning-a-view-versus-a-copy\n",
      "  # Remove the CWD from sys.path while we load stuff.\n"
     ]
    }
   ],
   "source": [
    "z_score_standardised=[]\n",
    "z_score_values=[]\n",
    "for i in surprises.index:\n",
    "    z_score_values.append(surprises.at[i,\"z_score\"])\n",
    "mean=st.mean(z_score_values)   \n",
    "sd=st.stdev(z_score_values)\n",
    "for i in z_score_values:\n",
    "    z_score_standardised.append((i-mean)/sd)\n",
    "z_score_standardised  \n",
    "surprises[\"z_score_standardised\"]=z_score_standardised"
   ]
  },
  {
   "cell_type": "code",
   "execution_count": 51,
   "metadata": {},
   "outputs": [],
   "source": [
    "dirlist=[]\n",
    "for i in surprises.index:\n",
    "    if surprises.loc[i,\"z_score\"]==0:\n",
    "        dirlist.append(\"No Surprise\")\n",
    "    elif surprises.loc[i,\"z_score\"]>0:\n",
    "        dirlist.append(\"Positive\")\n",
    "    elif surprises.loc[i,\"z_score\"]<0:\n",
    "        dirlist.append(\"Negative\")\n",
    "    else:\n",
    "        dirlist.append(None)\n",
    "        "
   ]
  },
  {
   "cell_type": "code",
   "execution_count": 52,
   "metadata": {},
   "outputs": [
    {
     "name": "stderr",
     "output_type": "stream",
     "text": [
      "C:\\ProgramData\\Anaconda3\\lib\\site-packages\\ipykernel_launcher.py:1: SettingWithCopyWarning: \n",
      "A value is trying to be set on a copy of a slice from a DataFrame.\n",
      "Try using .loc[row_indexer,col_indexer] = value instead\n",
      "\n",
      "See the caveats in the documentation: http://pandas.pydata.org/pandas-docs/stable/user_guide/indexing.html#returning-a-view-versus-a-copy\n",
      "  \"\"\"Entry point for launching an IPython kernel.\n"
     ]
    }
   ],
   "source": [
    "surprises[\"Direction\"]=dirlist"
   ]
  },
  {
   "cell_type": "code",
   "execution_count": 54,
   "metadata": {},
   "outputs": [
    {
     "name": "stdout",
     "output_type": "stream",
     "text": [
      "stock_id\n",
      "Quarter\n",
      "Date\n",
      "Median\n",
      "Actual\n",
      "StdDev\n",
      "z_score\n",
      "z_score_standardised\n",
      "Direction\n",
      "Magnitude\n"
     ]
    },
    {
     "name": "stderr",
     "output_type": "stream",
     "text": [
      "C:\\ProgramData\\Anaconda3\\lib\\site-packages\\ipykernel_launcher.py:16: SettingWithCopyWarning: \n",
      "A value is trying to be set on a copy of a slice from a DataFrame.\n",
      "Try using .loc[row_indexer,col_indexer] = value instead\n",
      "\n",
      "See the caveats in the documentation: http://pandas.pydata.org/pandas-docs/stable/user_guide/indexing.html#returning-a-view-versus-a-copy\n",
      "  app.launch_new_instance()\n"
     ]
    }
   ],
   "source": [
    "maglist=[]\n",
    "for i in z_score_values:\n",
    "    if i==0:\n",
    "        maglist.append(\"No Surprise\")\n",
    "    elif abs(i)>0:\n",
    "        if abs(i)<=1:\n",
    "            maglist.append(\"Small\")\n",
    "        elif abs(i)>1:\n",
    "            if abs(i)<=2:\n",
    "                maglist.append(\"Medium\")\n",
    "            else:\n",
    "                maglist.append(\"Large\")\n",
    "    else:\n",
    "        maglist.append(None)\n",
    "      \n",
    "surprises[\"Magnitude\"]=maglist  \n",
    "surprises\n",
    "for i in surprises:\n",
    "    print(i)"
   ]
  },
  {
   "cell_type": "code",
   "execution_count": 56,
   "metadata": {},
   "outputs": [
    {
     "name": "stdout",
     "output_type": "stream",
     "text": [
      "Positive or Negative?Positive\n",
      "Small, Medium or Large?Small\n",
      "On 1999-01-14 \n",
      " The one day price change was -0.10939999999999994 \n",
      " And the 20 day price change was 1.5077999999999996 \n",
      "\n",
      "On 2001-03-20 \n",
      " The one day price change was 0.2737000000000007 \n",
      " The 20 day price change was 0.18620000000000037 \n",
      " And the 100 day price change was 0.4962 \n",
      "\n",
      "On 2001-06-28 \n",
      " The one day price change was 0.001300000000000523 \n",
      " And the 20 day price change was 0.8438000000000008 \n",
      "\n",
      "On 2002-03-21 \n",
      " The one day price change was -0.46250000000000036 \n",
      " And the 20 day price change was -1.2875000000000005 \n",
      "\n",
      "On 2002-09-18 \n",
      " The one day price change was 0.11999999999999922 \n",
      " The 20 day price change was -0.3800000000000008 \n",
      " And the 100 day price change was 0.05999999999999961 \n",
      "\n",
      "On 2002-12-19 \n",
      " The one day price change was 0.44620000000000015 \n",
      " And the 20 day price change was 0.1086999999999998 \n",
      "\n",
      "On 2005-03-17 \n",
      " The one day price change was -0.17879999999999896 \n",
      " And the 20 day price change was -1.1312999999999995 \n",
      "\n",
      "On 2005-06-27 \n",
      " The one day price change was 0.2787000000000006 \n",
      " And the 20 day price change was -0.6212999999999997 \n",
      "\n",
      "On 2006-12-20 \n",
      " The one day price change was 0.06380000000000052 \n",
      " The 20 day price change was -0.0024999999999995026 \n",
      " And the 100 day price change was 0.8100000000000005 \n",
      "\n",
      "On 2007-03-22 \n",
      " The one day price change was 0.05630000000000024 \n",
      " And the 20 day price change was -0.317499999999999 \n",
      "\n",
      "On 2009-06-24 \n",
      " The one day price change was -0.4350000000000005 \n",
      " The 20 day price change was -0.28000000000000114 \n",
      " And the 100 day price change was 2.25 \n",
      "\n",
      "On 2010-06-23 \n",
      " The one day price change was -0.7225000000000001 \n",
      " The 20 day price change was -0.5124999999999993 \n",
      " And the 100 day price change was 1.932500000000001 \n",
      "\n",
      "On 2011-12-20 \n",
      " The one day price change was 0.6799999999999997 \n",
      " The 20 day price change was 1.1799999999999997 \n",
      " And the 100 day price change was 3.5549999999999997 \n",
      "\n",
      "On 2012-03-22 \n",
      " The one day price change was -0.8924999999999983 \n",
      " And the 20 day price change was -0.6824999999999974 \n",
      "\n",
      "On 2013-06-27 \n",
      " The one day price change was 0.6799999999999997 \n",
      " And the 20 day price change was 0.6649999999999991 \n",
      "\n",
      "On 2013-12-19 \n",
      " The one day price change was -0.46000000000000085 \n",
      " And the 20 day price change was -2.7850000000000037 \n",
      "\n",
      "On 2014-06-26 \n",
      " The one day price change was 0.4100000000000037 \n",
      " And the 20 day price change was 0.134999999999998 \n",
      "\n",
      "On 2016-06-28 \n",
      " The one day price change was 2.039999999999999 \n",
      " The 20 day price change was 4.649999999999999 \n",
      " And the 100 day price change was -1.0600000000000023 \n",
      "\n",
      "On 2019-03-21 \n",
      " The one day price change was -5.820000000000007 \n",
      " And the 20 day price change was -4.060000000000002 \n",
      "\n"
     ]
    }
   ],
   "source": [
    "#surprises and values, Date and Price\n",
    "direc=input(\"Positive or Negative?\")\n",
    "mag=input(\"Small, Medium or Large?\")\n",
    "for i in surprises.index:\n",
    "        if surprises.loc[i][\"Direction\"]==direc and surprises.loc[i][\"Magnitude\"]==mag:\n",
    "            try:\n",
    "                print(\"On\",surprises.loc[i][\"Date\"],\"\\n The one day price change was\",values.at[(surprises.loc[i][\"Date\"]+timedelta(days=1)),\"Price\"]-values.at[surprises.loc[i][\"Date\"],\"Price\"],\"\\n The 20 day price change was\",values.at[(surprises.loc[i][\"Date\"]+timedelta(days=20)), \"Price\"]-values.at[surprises.loc[i][\"Date\"], \"Price\"],\"\\n And the 100 day price change was\",values.at[(surprises.loc[i][\"Date\"]+timedelta(days=100)), \"Price\"]-values.at[surprises.loc[i][\"Date\"], \"Price\"],\"\\n\")\n",
    "            except KeyError:\n",
    "                try:\n",
    "                    print(\"On\",surprises.loc[i][\"Date\"],\"\\n The one day price change was\",values.at[(surprises.loc[i][\"Date\"]+timedelta(days=1)),\"Price\"]-values.at[surprises.loc[i][\"Date\"],\"Price\"],\"\\n And the 20 day price change was\",values.at[(surprises.loc[i][\"Date\"]+timedelta(days=50)), \"Price\"]-values.at[surprises.loc[i][\"Date\"], \"Price\"],\"\\n\")\n",
    "                except KeyError:\n",
    "                    try:\n",
    "                        print(\"On\",surprises.loc[i][\"Date\"],\"\\n The one day price change was\",values.at[(surprises.loc[i][\"Date\"]+timedelta(days=1)),\"Price\"]-values.at[surprises.loc[i][\"Date\"],\"Price\"],\"\\n\")\n",
    "                    except KeyError:\n",
    "                        continue\n",
    "                          "
   ]
  },
  {
   "cell_type": "code",
   "execution_count": null,
   "metadata": {},
   "outputs": [],
   "source": []
  },
  {
   "cell_type": "code",
   "execution_count": null,
   "metadata": {},
   "outputs": [],
   "source": []
  },
  {
   "cell_type": "code",
   "execution_count": null,
   "metadata": {},
   "outputs": [],
   "source": []
  }
 ],
 "metadata": {
  "kernelspec": {
   "display_name": "Python 3",
   "language": "python",
   "name": "python3"
  },
  "language_info": {
   "codemirror_mode": {
    "name": "ipython",
    "version": 3
   },
   "file_extension": ".py",
   "mimetype": "text/x-python",
   "name": "python",
   "nbconvert_exporter": "python",
   "pygments_lexer": "ipython3",
   "version": "3.7.4"
  }
 },
 "nbformat": 4,
 "nbformat_minor": 2
}
